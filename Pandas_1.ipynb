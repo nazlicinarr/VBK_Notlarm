{
  "nbformat": 4,
  "nbformat_minor": 0,
  "metadata": {
    "colab": {
      "provenance": []
    },
    "kernelspec": {
      "name": "python3",
      "display_name": "Python 3"
    },
    "language_info": {
      "name": "python"
    }
  },
  "cells": [
    {
      "cell_type": "markdown",
      "source": [
        "#Pandas Nedir?"
      ],
      "metadata": {
        "id": "eolcMEbtTiFU"
      }
    },
    {
      "cell_type": "code",
      "execution_count": null,
      "metadata": {
        "id": "K5zT6JpbTdm_"
      },
      "outputs": [],
      "source": [
        "# Pandas açık kaynaklı ve ücretli veri işleme, manipüle etme, temizleme vb. işlemleri yapabileceğimiz oldukça efektif bir kütüphanedir.\n",
        "# Pandas kütüphanesi NumPy kütüphanesi üzerine kurulmuş bir kütüphanedir.\n",
        "# Pandas elimizdeki veriyi şekillendirip işlememize ve veriden ANLAMLI SONUÇLAR çıkarmamıza olanak sağlar.\n",
        "# Pandas kütüphanesinin temel elemanları Series ve DataFrame'dir\n",
        "# Series ve DataFrame nesnelerini excel tabloları gibi düşünebiliriz."
      ]
    },
    {
      "cell_type": "markdown",
      "source": [
        "# Pandas'ı Import Etme"
      ],
      "metadata": {
        "id": "0BsvfSuoWIbB"
      }
    },
    {
      "cell_type": "code",
      "source": [
        "#!pip install pandas"
      ],
      "metadata": {
        "colab": {
          "base_uri": "https://localhost:8080/"
        },
        "id": "yWAt6lvVWMqQ",
        "outputId": "be4edead-33c1-4a78-a307-36e12e3c9bbf"
      },
      "execution_count": null,
      "outputs": [
        {
          "output_type": "stream",
          "name": "stdout",
          "text": [
            "Looking in indexes: https://pypi.org/simple, https://us-python.pkg.dev/colab-wheels/public/simple/\n",
            "Requirement already satisfied: pandas in /usr/local/lib/python3.9/dist-packages (1.4.4)\n",
            "Requirement already satisfied: numpy>=1.18.5 in /usr/local/lib/python3.9/dist-packages (from pandas) (1.22.4)\n",
            "Requirement already satisfied: python-dateutil>=2.8.1 in /usr/local/lib/python3.9/dist-packages (from pandas) (2.8.2)\n",
            "Requirement already satisfied: pytz>=2020.1 in /usr/local/lib/python3.9/dist-packages (from pandas) (2022.7.1)\n",
            "Requirement already satisfied: six>=1.5 in /usr/local/lib/python3.9/dist-packages (from python-dateutil>=2.8.1->pandas) (1.16.0)\n"
          ]
        }
      ]
    },
    {
      "cell_type": "code",
      "source": [
        "# import pandas yeterli\n",
        "import pandas as pd"
      ],
      "metadata": {
        "id": "TaCQx5FNWX2v"
      },
      "execution_count": null,
      "outputs": []
    },
    {
      "cell_type": "markdown",
      "source": [
        "# Series Oluşturma"
      ],
      "metadata": {
        "id": "TCufY64jWFiC"
      }
    },
    {
      "cell_type": "code",
      "source": [
        "my_data = ['Emincan','Alper', 'Burak', 'Dilara', 'Zeynep']\n",
        "my_data"
      ],
      "metadata": {
        "colab": {
          "base_uri": "https://localhost:8080/"
        },
        "id": "GOrqnl3tUby0",
        "outputId": "19638869-15fb-4c5a-cced-095da392a7a6"
      },
      "execution_count": null,
      "outputs": [
        {
          "output_type": "execute_result",
          "data": {
            "text/plain": [
              "['Emincan', 'Alper', 'Burak', 'Dilara', 'Zeynep']"
            ]
          },
          "metadata": {},
          "execution_count": 9
        }
      ]
    },
    {
      "cell_type": "code",
      "source": [
        "# pd.Series() fonksiyonu ile elimizdeki verileri Series haline getirebiliriz."
      ],
      "metadata": {
        "id": "QjlIaaoUW9mv"
      },
      "execution_count": null,
      "outputs": []
    },
    {
      "cell_type": "code",
      "source": [
        "pd.Series(my_data)"
      ],
      "metadata": {
        "colab": {
          "base_uri": "https://localhost:8080/"
        },
        "id": "NYnG02PiXE9x",
        "outputId": "61f806a4-6e58-4b45-fdd5-60edd7ab1e26"
      },
      "execution_count": null,
      "outputs": [
        {
          "output_type": "execute_result",
          "data": {
            "text/plain": [
              "0    Emincan\n",
              "1      Alper\n",
              "2      Burak\n",
              "3     Dilara\n",
              "4     Zeynep\n",
              "dtype: object"
            ]
          },
          "metadata": {},
          "execution_count": 11
        }
      ]
    },
    {
      "cell_type": "code",
      "source": [
        "my_data = [1923, 1776, 1876]\n",
        "my_idx = ['Türkiye', 'USA', 'Canada']\n"
      ],
      "metadata": {
        "id": "bzEWpZddXWA3"
      },
      "execution_count": null,
      "outputs": []
    },
    {
      "cell_type": "code",
      "source": [
        "pd.Series(my_data, my_idx)"
      ],
      "metadata": {
        "colab": {
          "base_uri": "https://localhost:8080/"
        },
        "id": "Yy7P4_PrYQEo",
        "outputId": "002b0c4c-2f71-44a0-d649-ebfdcf15fba4"
      },
      "execution_count": null,
      "outputs": [
        {
          "output_type": "execute_result",
          "data": {
            "text/plain": [
              "Türkiye    1923\n",
              "USA        1776\n",
              "Canada     1876\n",
              "dtype: int64"
            ]
          },
          "metadata": {},
          "execution_count": 14
        }
      ]
    },
    {
      "cell_type": "code",
      "source": [
        "pd.Series(data = my_data, index = my_idx)"
      ],
      "metadata": {
        "colab": {
          "base_uri": "https://localhost:8080/"
        },
        "id": "dNBJSXenYWzc",
        "outputId": "429b206d-80d4-415d-dced-a1f569ba2f28"
      },
      "execution_count": null,
      "outputs": [
        {
          "output_type": "execute_result",
          "data": {
            "text/plain": [
              "Türkiye    1923\n",
              "USA        1776\n",
              "Canada     1876\n",
              "dtype: int64"
            ]
          },
          "metadata": {},
          "execution_count": 15
        }
      ]
    },
    {
      "cell_type": "code",
      "source": [
        "# pd.Series() fonksiyonu içerisine dictionary de alabilir. Dictionary'nin keyleri index, value'ları değer olur."
      ],
      "metadata": {
        "id": "HS5wdBBIYkBL"
      },
      "execution_count": null,
      "outputs": []
    },
    {
      "cell_type": "code",
      "source": [
        "my_dict = {\n",
        "    'Emincan' : 26,\n",
        "    'Kaan' : 23,\n",
        "    'Ayşe' : 21,\n",
        "    'Deniz' : 29\n",
        "}"
      ],
      "metadata": {
        "id": "zHmAXEknY004"
      },
      "execution_count": null,
      "outputs": []
    },
    {
      "cell_type": "code",
      "source": [
        "my_dict"
      ],
      "metadata": {
        "colab": {
          "base_uri": "https://localhost:8080/"
        },
        "id": "_D_8u4NjZB6D",
        "outputId": "e34d0917-f775-408a-9f5f-d468d3f5761d"
      },
      "execution_count": null,
      "outputs": [
        {
          "output_type": "execute_result",
          "data": {
            "text/plain": [
              "{'Emincan': 26, 'Kaan': 23, 'Ayşe': 21, 'Deniz': 29}"
            ]
          },
          "metadata": {},
          "execution_count": 20
        }
      ]
    },
    {
      "cell_type": "code",
      "source": [
        "pd.Series(data = my_dict)"
      ],
      "metadata": {
        "colab": {
          "base_uri": "https://localhost:8080/"
        },
        "id": "CnHHzI0ZZQ5K",
        "outputId": "dfa876f8-fb4c-45a2-8ee7-6d84d51635fe"
      },
      "execution_count": null,
      "outputs": [
        {
          "output_type": "execute_result",
          "data": {
            "text/plain": [
              "Emincan    26\n",
              "Kaan       23\n",
              "Ayşe       21\n",
              "Deniz      29\n",
              "dtype: int64"
            ]
          },
          "metadata": {},
          "execution_count": 21
        }
      ]
    },
    {
      "cell_type": "code",
      "source": [
        "# Soru : İstanbul 15.4 , İzmir 4.3 , Ankara 5.6 , Bursa 3 şeklinde seri oluşturun. Hem liste göndererek, \n",
        "# hem de dictionary göndererek iki yöntemle de yapın."
      ],
      "metadata": {
        "id": "J1bNYxtAa87H"
      },
      "execution_count": null,
      "outputs": []
    },
    {
      "cell_type": "code",
      "source": [
        "ulke = ['İstanbul', 'İzmir', 'Ankara', 'Bursa' ]\n",
        "radio = [15.4, 4.3, 5.6, 3]\n",
        "pd.Series(data =radio, index = ulke)"
      ],
      "metadata": {
        "colab": {
          "base_uri": "https://localhost:8080/"
        },
        "id": "fjxuRLVHZWfC",
        "outputId": "4083e3d9-53e4-4ea8-b963-92ae034c8d1d"
      },
      "execution_count": null,
      "outputs": [
        {
          "output_type": "execute_result",
          "data": {
            "text/plain": [
              "İstanbul    15.4\n",
              "İzmir        4.3\n",
              "Ankara       5.6\n",
              "Bursa        3.0\n",
              "dtype: float64"
            ]
          },
          "metadata": {},
          "execution_count": 23
        }
      ]
    },
    {
      "cell_type": "code",
      "source": [
        "my_dict ={\n",
        "    'İstanbul' : 15.4,\n",
        "    'İzmir' : 4.3,\n",
        "    'Ankara' : 5.6,\n",
        "    'Bursa' : 3,\n",
        "}"
      ],
      "metadata": {
        "id": "GmoHt2vTaEfZ"
      },
      "execution_count": null,
      "outputs": []
    },
    {
      "cell_type": "code",
      "source": [
        "pd.Series(my_dict)"
      ],
      "metadata": {
        "colab": {
          "base_uri": "https://localhost:8080/"
        },
        "id": "0EuGHjBoaZFy",
        "outputId": "11558776-8f05-46ee-caf4-a404bd30b31e"
      },
      "execution_count": null,
      "outputs": [
        {
          "output_type": "execute_result",
          "data": {
            "text/plain": [
              "İstanbul    15.4\n",
              "İzmir        4.3\n",
              "Ankara       5.6\n",
              "Bursa        3.0\n",
              "dtype: float64"
            ]
          },
          "metadata": {},
          "execution_count": 26
        }
      ]
    },
    {
      "cell_type": "markdown",
      "source": [
        "#Serilerde İşlemler"
      ],
      "metadata": {
        "id": "iKgZm5mCa-2W"
      }
    },
    {
      "cell_type": "code",
      "source": [
        "q1 = {'Japan': 80, 'China': 450, 'Turkey': 150, 'India': 200}\n",
        "q2 = {'Japan': 90, 'China': 420, 'Turkey': 230, 'India': 195}"
      ],
      "metadata": {
        "id": "1hn3nl-HbAdw"
      },
      "execution_count": null,
      "outputs": []
    },
    {
      "cell_type": "code",
      "source": [
        "sales_q1 = pd.Series(q1)\n",
        "sales_q2 = pd.Series(q2)"
      ],
      "metadata": {
        "id": "v4PuuPmtbaLo"
      },
      "execution_count": null,
      "outputs": []
    },
    {
      "cell_type": "code",
      "source": [
        "sales_q1"
      ],
      "metadata": {
        "colab": {
          "base_uri": "https://localhost:8080/"
        },
        "id": "nV_SKKY7beaO",
        "outputId": "ddc65c91-02c9-4814-c435-ab08017b48fa"
      },
      "execution_count": null,
      "outputs": [
        {
          "output_type": "execute_result",
          "data": {
            "text/plain": [
              "Japan      80\n",
              "China     450\n",
              "Turkey    150\n",
              "India     200\n",
              "dtype: int64"
            ]
          },
          "metadata": {},
          "execution_count": 32
        }
      ]
    },
    {
      "cell_type": "code",
      "source": [
        "sales_q2"
      ],
      "metadata": {
        "colab": {
          "base_uri": "https://localhost:8080/"
        },
        "id": "dvMwW3yAbiTI",
        "outputId": "6b4290b9-fcde-40fa-858b-d0c8d3f3d456"
      },
      "execution_count": null,
      "outputs": [
        {
          "output_type": "execute_result",
          "data": {
            "text/plain": [
              "Japan      90\n",
              "China     420\n",
              "Turkey    230\n",
              "India     195\n",
              "dtype: int64"
            ]
          },
          "metadata": {},
          "execution_count": 34
        }
      ]
    },
    {
      "cell_type": "code",
      "source": [
        "sales_total = sales_q1 + sales_q2"
      ],
      "metadata": {
        "id": "ErE8SKGCbsrN"
      },
      "execution_count": null,
      "outputs": []
    },
    {
      "cell_type": "code",
      "source": [
        "sales_sum = sales_q2 - sales_q1"
      ],
      "metadata": {
        "id": "5FF7VuyIb2y0"
      },
      "execution_count": null,
      "outputs": []
    },
    {
      "cell_type": "code",
      "source": [
        "sales_total.index # .index attribute ü ile bakabiliriz."
      ],
      "metadata": {
        "colab": {
          "base_uri": "https://localhost:8080/"
        },
        "id": "8qPZUHdfb6BW",
        "outputId": "f0eed790-f2e4-48ac-bcf5-3d893224ee3f"
      },
      "execution_count": null,
      "outputs": [
        {
          "output_type": "execute_result",
          "data": {
            "text/plain": [
              "Index(['Japan', 'China', 'Turkey', 'India'], dtype='object')"
            ]
          },
          "metadata": {},
          "execution_count": 41
        }
      ]
    },
    {
      "cell_type": "code",
      "source": [
        "sales_total.keys() # .key metoduyla da indexlerine bakabiliriz."
      ],
      "metadata": {
        "colab": {
          "base_uri": "https://localhost:8080/"
        },
        "id": "5PouBZeDcKrw",
        "outputId": "9cc75f55-3ead-4f64-93c2-5293a20cba31"
      },
      "execution_count": null,
      "outputs": [
        {
          "output_type": "execute_result",
          "data": {
            "text/plain": [
              "Index(['Japan', 'China', 'Turkey', 'India'], dtype='object')"
            ]
          },
          "metadata": {},
          "execution_count": 42
        }
      ]
    },
    {
      "cell_type": "code",
      "source": [
        "sales_total.values # .values attribute ü ile serimizin değerlerine bakabiliriz."
      ],
      "metadata": {
        "colab": {
          "base_uri": "https://localhost:8080/"
        },
        "id": "Sf7muUSMfxL5",
        "outputId": "f99f2ac3-f99a-46e0-b05d-f60ea722c8ea"
      },
      "execution_count": null,
      "outputs": [
        {
          "output_type": "execute_result",
          "data": {
            "text/plain": [
              "array([170, 870, 380, 395])"
            ]
          },
          "metadata": {},
          "execution_count": 43
        }
      ]
    },
    {
      "cell_type": "code",
      "source": [
        "sales_total"
      ],
      "metadata": {
        "colab": {
          "base_uri": "https://localhost:8080/"
        },
        "id": "2W-7ARp6f4II",
        "outputId": "53bf969c-18ac-4323-b1e2-78215557fba2"
      },
      "execution_count": null,
      "outputs": [
        {
          "output_type": "execute_result",
          "data": {
            "text/plain": [
              "Japan     170\n",
              "China     870\n",
              "Turkey    380\n",
              "India     395\n",
              "dtype: int64"
            ]
          },
          "metadata": {},
          "execution_count": 44
        }
      ]
    },
    {
      "cell_type": "code",
      "source": [
        "sales_total*2"
      ],
      "metadata": {
        "colab": {
          "base_uri": "https://localhost:8080/"
        },
        "id": "-NP6ytzSf8BH",
        "outputId": "c4127c29-e047-4661-bc06-7b1f5a6bace6"
      },
      "execution_count": null,
      "outputs": [
        {
          "output_type": "execute_result",
          "data": {
            "text/plain": [
              "Japan      340\n",
              "China     1740\n",
              "Turkey     760\n",
              "India      790\n",
              "dtype: int64"
            ]
          },
          "metadata": {},
          "execution_count": 45
        }
      ]
    },
    {
      "cell_type": "code",
      "source": [
        "sales_total / 10"
      ],
      "metadata": {
        "colab": {
          "base_uri": "https://localhost:8080/"
        },
        "id": "l0bktUtMf-GT",
        "outputId": "39b3f479-8215-4770-dff0-bf92275b0ef4"
      },
      "execution_count": null,
      "outputs": [
        {
          "output_type": "execute_result",
          "data": {
            "text/plain": [
              "Japan     17.0\n",
              "China     87.0\n",
              "Turkey    38.0\n",
              "India     39.5\n",
              "dtype: float64"
            ]
          },
          "metadata": {},
          "execution_count": 47
        }
      ]
    },
    {
      "cell_type": "code",
      "source": [
        "sales_sum"
      ],
      "metadata": {
        "colab": {
          "base_uri": "https://localhost:8080/"
        },
        "id": "QFuRlVAZgC52",
        "outputId": "b8dff103-6562-4602-dd9c-265d9b548847"
      },
      "execution_count": null,
      "outputs": [
        {
          "output_type": "execute_result",
          "data": {
            "text/plain": [
              "Japan     10\n",
              "China    -30\n",
              "Turkey    80\n",
              "India     -5\n",
              "dtype: int64"
            ]
          },
          "metadata": {},
          "execution_count": 48
        }
      ]
    },
    {
      "cell_type": "code",
      "source": [
        "q1 = {'Japan': 80, 'China': 450, 'India': 150, 'USA': 200}\n",
        "q2 = {'Brazil': 90, 'China': 420, 'India': 230, 'USA': 195}"
      ],
      "metadata": {
        "id": "VHdPV9MvgT5v"
      },
      "execution_count": null,
      "outputs": []
    },
    {
      "cell_type": "code",
      "source": [
        "sales_q1 = pd.Series(q1)\n",
        "sales_q2 = pd.Series(q2)"
      ],
      "metadata": {
        "id": "O21rQNfNgsJk"
      },
      "execution_count": null,
      "outputs": []
    },
    {
      "cell_type": "code",
      "source": [
        "sales_q1"
      ],
      "metadata": {
        "colab": {
          "base_uri": "https://localhost:8080/"
        },
        "id": "NhRKHfQ_gyKg",
        "outputId": "1a51887e-d258-4fff-8e67-a0af88b16ed3"
      },
      "execution_count": null,
      "outputs": [
        {
          "output_type": "execute_result",
          "data": {
            "text/plain": [
              "Japan     80\n",
              "China    450\n",
              "India    150\n",
              "USA      200\n",
              "dtype: int64"
            ]
          },
          "metadata": {},
          "execution_count": 51
        }
      ]
    },
    {
      "cell_type": "code",
      "source": [
        "sales_q2"
      ],
      "metadata": {
        "colab": {
          "base_uri": "https://localhost:8080/"
        },
        "id": "IZch3GIMgzIB",
        "outputId": "db00ef96-a9f8-4ca7-fea6-25efe4fc1d60"
      },
      "execution_count": null,
      "outputs": [
        {
          "output_type": "execute_result",
          "data": {
            "text/plain": [
              "Brazil     90\n",
              "China     420\n",
              "India     230\n",
              "USA       195\n",
              "dtype: int64"
            ]
          },
          "metadata": {},
          "execution_count": 52
        }
      ]
    },
    {
      "cell_type": "code",
      "source": [
        "sales_q1 + sales_q2"
      ],
      "metadata": {
        "colab": {
          "base_uri": "https://localhost:8080/"
        },
        "id": "IbH4X5-zg0mZ",
        "outputId": "dea72e7d-eac7-41a5-fe9b-a15d33a0f7b3"
      },
      "execution_count": null,
      "outputs": [
        {
          "output_type": "execute_result",
          "data": {
            "text/plain": [
              "Brazil      NaN\n",
              "China     870.0\n",
              "India     380.0\n",
              "Japan       NaN\n",
              "USA       395.0\n",
              "dtype: float64"
            ]
          },
          "metadata": {},
          "execution_count": 53
        }
      ]
    },
    {
      "cell_type": "code",
      "source": [
        "sales_q1.add(sales_q2, fill_value = 0) # Bilinmeyen value 0 olarak aldırılabilir."
      ],
      "metadata": {
        "colab": {
          "base_uri": "https://localhost:8080/"
        },
        "id": "5Tvb9Tsbg33T",
        "outputId": "e4f91b87-bdb7-47b6-f957-a52a529474db"
      },
      "execution_count": null,
      "outputs": [
        {
          "output_type": "execute_result",
          "data": {
            "text/plain": [
              "Brazil     90.0\n",
              "China     870.0\n",
              "India     380.0\n",
              "Japan      80.0\n",
              "USA       395.0\n",
              "dtype: float64"
            ]
          },
          "metadata": {},
          "execution_count": 56
        }
      ]
    },
    {
      "cell_type": "code",
      "source": [
        "sales_q1"
      ],
      "metadata": {
        "colab": {
          "base_uri": "https://localhost:8080/"
        },
        "id": "-63hYI1ahN-K",
        "outputId": "38fc2104-1446-4130-a34c-4e01fd3a5cd7"
      },
      "execution_count": null,
      "outputs": [
        {
          "output_type": "execute_result",
          "data": {
            "text/plain": [
              "Japan     80\n",
              "China    450\n",
              "India    150\n",
              "USA      200\n",
              "dtype: int64"
            ]
          },
          "metadata": {},
          "execution_count": 57
        }
      ]
    },
    {
      "cell_type": "code",
      "source": [
        "sales_q1.dtype # .dtype attribute ü ile serimizin içindeki verilerin tipini çekebiliriz."
      ],
      "metadata": {
        "colab": {
          "base_uri": "https://localhost:8080/"
        },
        "id": "ferQpWzshnlu",
        "outputId": "5821c635-65b3-450e-cf27-d83a69f02aa0"
      },
      "execution_count": null,
      "outputs": [
        {
          "output_type": "execute_result",
          "data": {
            "text/plain": [
              "dtype('int64')"
            ]
          },
          "metadata": {},
          "execution_count": 59
        }
      ]
    },
    {
      "cell_type": "code",
      "source": [
        "my2022= pd.Series(  data ={ \n",
        "    'Fenerbahce': 51,\n",
        "    'Galatasaray': 60,\n",
        "    'Besiktas': 48,\n",
        "    'Trabzonspor': 41, \n",
        "})\n",
        "my2021= pd.Series(  data={\n",
        "    'Fenerbahce': 73,\n",
        "    'Galatasaray': 68,\n",
        "    'Besiktas': 53,\n",
        "    'Trabzonspor': 81, \n",
        "})\n",
        "my2020= pd.Series( data={\n",
        "    'Fenerbahce': 82,\n",
        "    'Galatasaray': 84,\n",
        "    'Besiktas': 84,\n",
        "    'Trabzonspor': 71, \n",
        "})\n",
        "\n"
      ],
      "metadata": {
        "id": "ylHpffNUhtGH"
      },
      "execution_count": null,
      "outputs": []
    },
    {
      "cell_type": "code",
      "source": [
        "my2022 + my2021 + my2020"
      ],
      "metadata": {
        "colab": {
          "base_uri": "https://localhost:8080/"
        },
        "id": "ONz9wYInikR3",
        "outputId": "20c40522-7cc1-4585-b74f-e2570b6fa4b3"
      },
      "execution_count": null,
      "outputs": [
        {
          "output_type": "execute_result",
          "data": {
            "text/plain": [
              "Fenerbahce     206\n",
              "Galatasaray    212\n",
              "Besiktas       185\n",
              "Trabzonspor    193\n",
              "dtype: int64"
            ]
          },
          "metadata": {},
          "execution_count": 65
        }
      ]
    },
    {
      "cell_type": "code",
      "source": [
        "#Done"
      ],
      "metadata": {
        "id": "ZmGls1q4jeJY"
      },
      "execution_count": null,
      "outputs": []
    }
  ]
}