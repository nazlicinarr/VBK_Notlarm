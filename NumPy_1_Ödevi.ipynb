{
  "nbformat": 4,
  "nbformat_minor": 0,
  "metadata": {
    "colab": {
      "provenance": []
    },
    "kernelspec": {
      "name": "python3",
      "display_name": "Python 3"
    },
    "language_info": {
      "name": "python"
    }
  },
  "cells": [
    {
      "cell_type": "code",
      "source": [
        "# 1) Manuel değerleri el ile girerek 3 boyutlu bir array oluşturup bir değişkene atayın. Ardından 3 boyutlu olup olmadığına bakmak için dimension'ını kontrol edin\n",
        "import numpy as np\n",
        "arr = np.array([[[10,20,30],[40,50,60]],[[70,80,90],[100,110,120]]])\n",
        "arr.ndim"
      ],
      "metadata": {
        "id": "Gauovk2yw838",
        "colab": {
          "base_uri": "https://localhost:8080/"
        },
        "outputId": "534eb033-53db-4f03-c763-0cc267278c2c"
      },
      "execution_count": null,
      "outputs": [
        {
          "output_type": "execute_result",
          "data": {
            "text/plain": [
              "3"
            ]
          },
          "metadata": {},
          "execution_count": 1
        }
      ]
    },
    {
      "cell_type": "code",
      "source": [
        "# 2) 34, 40, 46, 52... 112 şeklinde devam eden 1 boyutlu bir array oluşturun.\n",
        "arr = np.arange(34,113,6)\n",
        "arr"
      ],
      "metadata": {
        "id": "LaXpkp6PxzQT",
        "colab": {
          "base_uri": "https://localhost:8080/"
        },
        "outputId": "bcabad7d-fc39-4e8c-b6dd-78973ba1a4c7"
      },
      "execution_count": null,
      "outputs": [
        {
          "output_type": "execute_result",
          "data": {
            "text/plain": [
              "array([ 34,  40,  46,  52,  58,  64,  70,  76,  82,  88,  94, 100, 106,\n",
              "       112])"
            ]
          },
          "metadata": {},
          "execution_count": 2
        }
      ]
    },
    {
      "cell_type": "code",
      "source": [
        "# 3) 50-500 arasında lineer artış gösteren 91 tane tam sayıdan oluşan bir array oluşturun.(dtype'ı int olsun)\n",
        "arr = np.linspace(50,500,91, dtype= int)\n",
        "arr"
      ],
      "metadata": {
        "id": "wFiJzicryJU8",
        "colab": {
          "base_uri": "https://localhost:8080/"
        },
        "outputId": "1ce12aff-f35a-410d-8503-834c02109e10"
      },
      "execution_count": null,
      "outputs": [
        {
          "output_type": "execute_result",
          "data": {
            "text/plain": [
              "array([ 50,  55,  60,  65,  70,  75,  80,  85,  90,  95, 100, 105, 110,\n",
              "       115, 120, 125, 130, 135, 140, 145, 150, 155, 160, 165, 170, 175,\n",
              "       180, 185, 190, 195, 200, 205, 210, 215, 220, 225, 230, 235, 240,\n",
              "       245, 250, 255, 260, 265, 270, 275, 280, 285, 290, 295, 300, 305,\n",
              "       310, 315, 320, 325, 330, 335, 340, 345, 350, 355, 360, 365, 370,\n",
              "       375, 380, 385, 390, 395, 400, 405, 410, 415, 420, 425, 430, 435,\n",
              "       440, 445, 450, 455, 460, 465, 470, 475, 480, 485, 490, 495, 500])"
            ]
          },
          "metadata": {},
          "execution_count": 3
        }
      ]
    },
    {
      "cell_type": "code",
      "source": [
        "# 4) 100(10**2) ile 10000(10**5) arasında logaritmik artış gösteren 8 sayıdan oluşan bir array oluşturun.\n",
        "arr = np.logspace(2,5,8)\n",
        "arr"
      ],
      "metadata": {
        "id": "YbzfstwnyiLr",
        "colab": {
          "base_uri": "https://localhost:8080/"
        },
        "outputId": "e66e9fb3-a18d-493a-9519-2aa2e7bfabf6"
      },
      "execution_count": null,
      "outputs": [
        {
          "output_type": "execute_result",
          "data": {
            "text/plain": [
              "array([   100.        ,    268.26957953,    719.685673  ,   1930.69772888,\n",
              "         5179.47467923,  13894.95494373,  37275.93720315, 100000.        ])"
            ]
          },
          "metadata": {},
          "execution_count": 4
        }
      ]
    },
    {
      "cell_type": "code",
      "source": [
        "# 5) 0-8 tam arasındaki ardışık tam sayılardan oluşan(0 ve 8 dahil toplam 9 değer) 3x3 shape'inde bir matris oluşturun.\n",
        "arr = np.array([[0,1,2],[3,4,5],[6,7,8]])\n",
        "arr"
      ],
      "metadata": {
        "id": "Xfq_RIeTy_qS",
        "colab": {
          "base_uri": "https://localhost:8080/"
        },
        "outputId": "63bbb9aa-2c48-4de9-f263-1432c568d688"
      },
      "execution_count": null,
      "outputs": [
        {
          "output_type": "execute_result",
          "data": {
            "text/plain": [
              "array([[0, 1, 2],\n",
              "       [3, 4, 5],\n",
              "       [6, 7, 8]])"
            ]
          },
          "metadata": {},
          "execution_count": 5
        }
      ]
    },
    {
      "cell_type": "code",
      "source": [
        "# 6) 6x6 formatında bir sıfır matrisi oluşturun. (dtype'ı int olsun)\n",
        "arr = np.zeros((6,6),dtype = int)\n",
        "arr"
      ],
      "metadata": {
        "id": "gFDI1bTRziWW",
        "colab": {
          "base_uri": "https://localhost:8080/"
        },
        "outputId": "556ef05f-a532-4c49-d9a4-a3f3059f5dbc"
      },
      "execution_count": null,
      "outputs": [
        {
          "output_type": "execute_result",
          "data": {
            "text/plain": [
              "array([[0, 0, 0, 0, 0, 0],\n",
              "       [0, 0, 0, 0, 0, 0],\n",
              "       [0, 0, 0, 0, 0, 0],\n",
              "       [0, 0, 0, 0, 0, 0],\n",
              "       [0, 0, 0, 0, 0, 0],\n",
              "       [0, 0, 0, 0, 0, 0]])"
            ]
          },
          "metadata": {},
          "execution_count": 6
        }
      ]
    },
    {
      "cell_type": "code",
      "source": [
        "# 7) 4x4 formatında bir bir matrisi oluşturun. (dtype'ı int olsun)\n",
        "arr = np.ones((4,4), dtype = int)\n",
        "arr"
      ],
      "metadata": {
        "id": "mXgoRIq005HU",
        "colab": {
          "base_uri": "https://localhost:8080/"
        },
        "outputId": "629bc58b-b3c4-4f62-c427-3d30a74f730c"
      },
      "execution_count": null,
      "outputs": [
        {
          "output_type": "execute_result",
          "data": {
            "text/plain": [
              "array([[1, 1, 1, 1],\n",
              "       [1, 1, 1, 1],\n",
              "       [1, 1, 1, 1],\n",
              "       [1, 1, 1, 1]])"
            ]
          },
          "metadata": {},
          "execution_count": 7
        }
      ]
    },
    {
      "cell_type": "code",
      "source": [
        "# 8) 8x8 formatında bir birim matris oluşturun. (Sadece sol köşegeni 1 geri kalan değerleri 0 olan matris'e birim matris deniyor.) (dtype'ı int olsun)\n",
        "arr = np.eye(8, dtype= int)\n",
        "arr"
      ],
      "metadata": {
        "id": "e4FEJCFV1KqF",
        "colab": {
          "base_uri": "https://localhost:8080/"
        },
        "outputId": "10c8f8d1-bbf9-439e-a421-eb0bb72ecfa3"
      },
      "execution_count": null,
      "outputs": [
        {
          "output_type": "execute_result",
          "data": {
            "text/plain": [
              "array([[1, 0, 0, 0, 0, 0, 0, 0],\n",
              "       [0, 1, 0, 0, 0, 0, 0, 0],\n",
              "       [0, 0, 1, 0, 0, 0, 0, 0],\n",
              "       [0, 0, 0, 1, 0, 0, 0, 0],\n",
              "       [0, 0, 0, 0, 1, 0, 0, 0],\n",
              "       [0, 0, 0, 0, 0, 1, 0, 0],\n",
              "       [0, 0, 0, 0, 0, 0, 1, 0],\n",
              "       [0, 0, 0, 0, 0, 0, 0, 1]])"
            ]
          },
          "metadata": {},
          "execution_count": 8
        }
      ]
    },
    {
      "cell_type": "code",
      "source": [
        "# 9) 5x5 formatında bir köşegen matrisi oluşturun (Sadece sol üstten sağ alta doğru olan köşegendeki değerleri 3 olsun diğer bütün değerleri 0) (Bunu henüz görmediniz ama birim matrise benziyor,\n",
        "# sadece köşegen değerleri 1 değil 3 olacak. Bir şeyler düşünün)\n",
        "arr = np.array([[3,0,0,0,0],[0,3,0,0,0],[0,0,3,0,0],[0,0,0,3,0],[0,0,0,0,3]])\n",
        "arr"
      ],
      "metadata": {
        "id": "VyhfN7eW1bsq",
        "colab": {
          "base_uri": "https://localhost:8080/"
        },
        "outputId": "bb2c7b31-ecd8-4f82-fb2a-0b9d5a522c28"
      },
      "execution_count": null,
      "outputs": [
        {
          "output_type": "execute_result",
          "data": {
            "text/plain": [
              "array([[3, 0, 0, 0, 0],\n",
              "       [0, 3, 0, 0, 0],\n",
              "       [0, 0, 3, 0, 0],\n",
              "       [0, 0, 0, 3, 0],\n",
              "       [0, 0, 0, 0, 3]])"
            ]
          },
          "metadata": {},
          "execution_count": 9
        }
      ]
    },
    {
      "cell_type": "code",
      "source": [
        "# 10) np.random modülünden uygun fonksiyonu kullanarak 0-1 arasında toplam 6 tane değerden oluşan 1 boyutlu bir array oluşturun.\n",
        "arr = np.random.rand(6)\n",
        "arr"
      ],
      "metadata": {
        "id": "_oln6j7D2GZT",
        "colab": {
          "base_uri": "https://localhost:8080/"
        },
        "outputId": "296e1630-7d85-480b-8a61-e75e22dc3dd6"
      },
      "execution_count": null,
      "outputs": [
        {
          "output_type": "execute_result",
          "data": {
            "text/plain": [
              "array([0.91321796, 0.01495546, 0.96959972, 0.3222723 , 0.72120082,\n",
              "       0.57672308])"
            ]
          },
          "metadata": {},
          "execution_count": 10
        }
      ]
    },
    {
      "cell_type": "code",
      "source": [
        "# 11) np.random modülünden uygun fonksiyonu kullanarak 50-100 arasındaki(50 ve 100 dahil) tam sayılardan 10 tanesiyle oluşan (5,2) shape'inde bir array oluşturun. Ardından bu arrayin shape'ini kontrol \n",
        "# edin.\n",
        "arr = np.random.randint(50,101,(5,2))\n",
        "arr.shape"
      ],
      "metadata": {
        "id": "BA20t2YH2N10",
        "colab": {
          "base_uri": "https://localhost:8080/"
        },
        "outputId": "a5feb7d0-0209-4201-b75a-11597f31331a"
      },
      "execution_count": null,
      "outputs": [
        {
          "output_type": "execute_result",
          "data": {
            "text/plain": [
              "(5, 2)"
            ]
          },
          "metadata": {},
          "execution_count": 11
        }
      ]
    },
    {
      "cell_type": "code",
      "source": [
        "# 12) np.random modülünden uygun fonksiyonu kullanarak 100-1000(1000 dahil değil) arasındaki tam sayılardan rastgele 50 tanesinden oluşan (2,5,5) shape'inde 3 boyutlu bir array oluşturun. \n",
        "# Ardından bu array'in dimension'ını(boyutunu) ve shape'ini kontrol edin.\n",
        "arr = np.random.randint(100,1000,(2,5,5))\n",
        "arr.ndim"
      ],
      "metadata": {
        "id": "4qxbsmEK2Rbq",
        "colab": {
          "base_uri": "https://localhost:8080/"
        },
        "outputId": "6066479c-0303-4a4d-e7fc-0a190eaf1bf3"
      },
      "execution_count": null,
      "outputs": [
        {
          "output_type": "execute_result",
          "data": {
            "text/plain": [
              "3"
            ]
          },
          "metadata": {},
          "execution_count": 12
        }
      ]
    },
    {
      "cell_type": "code",
      "source": [
        "# 13) np.random modülünden uygun fonksiyonu kullanarak 0-100(0 ve 100 dahil) arasındaki tam sayılardan 10 tane seçerek bir array oluşturun. Bu array'in maximum, \n",
        "# mininmum değerlerine ve bu değerlerin indexlerine bakın.\n",
        "arr = np.random.rand(10)*101\n",
        "arr"
      ],
      "metadata": {
        "id": "BEdHoSkZ2bk7",
        "colab": {
          "base_uri": "https://localhost:8080/"
        },
        "outputId": "abf789d0-438b-48ac-c19d-bb32985cbe54"
      },
      "execution_count": null,
      "outputs": [
        {
          "output_type": "execute_result",
          "data": {
            "text/plain": [
              "array([66.36841722, 80.99580204, 83.55674312, 93.11043014, 12.23081682,\n",
              "       59.07741023,  2.54588835, 75.65216505, 12.94200859,  4.192424  ])"
            ]
          },
          "metadata": {},
          "execution_count": 13
        }
      ]
    },
    {
      "cell_type": "code",
      "source": [
        "arr.max()"
      ],
      "metadata": {
        "id": "6iQeRAwf4Aqe",
        "colab": {
          "base_uri": "https://localhost:8080/"
        },
        "outputId": "324a29e9-a17c-47e2-f2be-73109ca60243"
      },
      "execution_count": null,
      "outputs": [
        {
          "output_type": "execute_result",
          "data": {
            "text/plain": [
              "93.11043013782803"
            ]
          },
          "metadata": {},
          "execution_count": 14
        }
      ]
    },
    {
      "cell_type": "code",
      "source": [
        "arr.min()"
      ],
      "metadata": {
        "id": "2hnKJe-E4H1T",
        "colab": {
          "base_uri": "https://localhost:8080/"
        },
        "outputId": "2947666e-fd19-490d-e2ea-fc83243104b9"
      },
      "execution_count": null,
      "outputs": [
        {
          "output_type": "execute_result",
          "data": {
            "text/plain": [
              "2.545888349558784"
            ]
          },
          "metadata": {},
          "execution_count": 15
        }
      ]
    },
    {
      "cell_type": "code",
      "source": [
        "arr.argmax()"
      ],
      "metadata": {
        "id": "a1aGtbnj4Qx4",
        "colab": {
          "base_uri": "https://localhost:8080/"
        },
        "outputId": "6638b645-2d12-40d3-fd48-5b053fea06fb"
      },
      "execution_count": null,
      "outputs": [
        {
          "output_type": "execute_result",
          "data": {
            "text/plain": [
              "3"
            ]
          },
          "metadata": {},
          "execution_count": 16
        }
      ]
    },
    {
      "cell_type": "code",
      "source": [
        "arr.argmin()"
      ],
      "metadata": {
        "id": "SnqYyASU4UK-",
        "colab": {
          "base_uri": "https://localhost:8080/"
        },
        "outputId": "d86f52b8-8298-4828-b5b7-9225f039db84"
      },
      "execution_count": null,
      "outputs": [
        {
          "output_type": "execute_result",
          "data": {
            "text/plain": [
              "6"
            ]
          },
          "metadata": {},
          "execution_count": 17
        }
      ]
    },
    {
      "cell_type": "code",
      "source": [
        "# 14) np.random modülünden uygun fonksiyonu kullanarak 300-500(300 ve 500 dahil) arasındaki tam sayılardan 20 tane seçerek (2,2,5) shape'inde 3 boyutlu bir array oluşturun. \n",
        "# Ardından bu array'in içindeki 20 tam sayı arasından maximum ve minimum değerleri manuel olarak tespit edin ve indexleme yaparak çekmeye çalışın.\n",
        "arr = np.random.randint(300,501,(2,2,5))\n",
        "arr"
      ],
      "metadata": {
        "id": "stoq7FNH2hr7",
        "colab": {
          "base_uri": "https://localhost:8080/"
        },
        "outputId": "2cf4c3a7-ccc8-4c68-e7da-75311195cc06"
      },
      "execution_count": null,
      "outputs": [
        {
          "output_type": "execute_result",
          "data": {
            "text/plain": [
              "array([[[421, 346, 393, 415, 418],\n",
              "        [320, 453, 492, 477, 469]],\n",
              "\n",
              "       [[416, 405, 311, 356, 356],\n",
              "        [443, 315, 335, 366, 306]]])"
            ]
          },
          "metadata": {},
          "execution_count": 18
        }
      ]
    },
    {
      "cell_type": "code",
      "source": [
        "arr[1][0][1] #max"
      ],
      "metadata": {
        "id": "iAYjEdfV4nvW",
        "colab": {
          "base_uri": "https://localhost:8080/"
        },
        "outputId": "9b2de938-57f4-46e9-ba3d-37ae58e51b78"
      },
      "execution_count": null,
      "outputs": [
        {
          "output_type": "execute_result",
          "data": {
            "text/plain": [
              "405"
            ]
          },
          "metadata": {},
          "execution_count": 19
        }
      ]
    },
    {
      "cell_type": "code",
      "source": [
        "arr[0][1][0] #min"
      ],
      "metadata": {
        "id": "0Su31sjj5ZQk",
        "colab": {
          "base_uri": "https://localhost:8080/"
        },
        "outputId": "01082a48-f1d8-44a0-dee0-ba251da5b53b"
      },
      "execution_count": null,
      "outputs": [
        {
          "output_type": "execute_result",
          "data": {
            "text/plain": [
              "320"
            ]
          },
          "metadata": {},
          "execution_count": 20
        }
      ]
    },
    {
      "cell_type": "code",
      "source": [
        "# 15) 0-50(50 dahil) arasındaki ardışık tam sayılardan oluşan bir array oluşturun. Ardından bu arrayin 20. ve 35. indexleri arasındaki değerleri 500'e eşitleyin ve yeni oluşan array'i ekrana yazdırarak \n",
        "# broadcasting işleminin yapılıp yapılmadığını test edin.\n",
        "arr = np.arange(0,51)\n",
        "arr"
      ],
      "metadata": {
        "id": "kR4EXE-f2oPD",
        "colab": {
          "base_uri": "https://localhost:8080/"
        },
        "outputId": "02dec64b-a5ed-4594-f6e2-114fead061e0"
      },
      "execution_count": null,
      "outputs": [
        {
          "output_type": "execute_result",
          "data": {
            "text/plain": [
              "array([ 0,  1,  2,  3,  4,  5,  6,  7,  8,  9, 10, 11, 12, 13, 14, 15, 16,\n",
              "       17, 18, 19, 20, 21, 22, 23, 24, 25, 26, 27, 28, 29, 30, 31, 32, 33,\n",
              "       34, 35, 36, 37, 38, 39, 40, 41, 42, 43, 44, 45, 46, 47, 48, 49, 50])"
            ]
          },
          "metadata": {},
          "execution_count": 21
        }
      ]
    },
    {
      "cell_type": "code",
      "source": [
        "arr[20:36]=500\n",
        "arr"
      ],
      "metadata": {
        "id": "-w7zzrJJ5qV9",
        "colab": {
          "base_uri": "https://localhost:8080/"
        },
        "outputId": "2ac04ed8-d6b1-4f61-dd0e-eeca8bc74dc9"
      },
      "execution_count": null,
      "outputs": [
        {
          "output_type": "execute_result",
          "data": {
            "text/plain": [
              "array([  0,   1,   2,   3,   4,   5,   6,   7,   8,   9,  10,  11,  12,\n",
              "        13,  14,  15,  16,  17,  18,  19, 500, 500, 500, 500, 500, 500,\n",
              "       500, 500, 500, 500, 500, 500, 500, 500, 500, 500,  36,  37,  38,\n",
              "        39,  40,  41,  42,  43,  44,  45,  46,  47,  48,  49,  50])"
            ]
          },
          "metadata": {},
          "execution_count": 22
        }
      ]
    }
  ]
}