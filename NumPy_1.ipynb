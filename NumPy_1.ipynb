{
  "nbformat": 4,
  "nbformat_minor": 0,
  "metadata": {
    "colab": {
      "provenance": []
    },
    "kernelspec": {
      "name": "python3",
      "display_name": "Python 3"
    },
    "language_info": {
      "name": "python"
    }
  },
  "cells": [
    {
      "cell_type": "markdown",
      "source": [
        "#NymPy Nedir?"
      ],
      "metadata": {
        "id": "JVvylZlSfE4J"
      }
    },
    {
      "cell_type": "code",
      "source": [
        "#NumPy açık kaynak kodlu ücretsiz ve özgür bir python kütüphanesidir.\n",
        "#NumPy --> Numerical python anlamına gelir. Sayılarla daha hızlı matematik işlemler yapmamızı sağlar.\n",
        "#NumPy kütüphanelerinin en temel elemanı array(dizi) dir.\n",
        "#Arrayleri python dizilerinin çok boyutlu olanı gibi düşünebiliriz.\n",
        "#Arrayler listelerden yaklaşık 50 kat daha hızlı çalışır.\n",
        "#NumPy arraylerinin hızlı çalışmasının sebebi bu kütüphanenin çok büyük oranda c ve c++ ile yazılmış olması."
      ],
      "metadata": {
        "id": "z9lTV4xAjAtk"
      },
      "execution_count": null,
      "outputs": []
    },
    {
      "cell_type": "markdown",
      "source": [
        "#NumPy Yüklenmesi"
      ],
      "metadata": {
        "id": "0mMZSKapj9Xh"
      }
    },
    {
      "cell_type": "code",
      "source": [
        "pip install numpy"
      ],
      "metadata": {
        "colab": {
          "base_uri": "https://localhost:8080/"
        },
        "id": "GwYG5R4Jj_-4",
        "outputId": "a21f1f78-02fd-48dd-efc0-bda5ae20f1ea"
      },
      "execution_count": null,
      "outputs": [
        {
          "output_type": "stream",
          "name": "stdout",
          "text": [
            "Looking in indexes: https://pypi.org/simple, https://us-python.pkg.dev/colab-wheels/public/simple/\n",
            "Requirement already satisfied: numpy in /usr/local/lib/python3.9/dist-packages (1.22.4)\n"
          ]
        }
      ]
    },
    {
      "cell_type": "code",
      "source": [],
      "metadata": {
        "id": "HHCbTW0ukG1n"
      },
      "execution_count": null,
      "outputs": []
    },
    {
      "cell_type": "markdown",
      "source": [
        "#NumPy'ı projeye dahil etme"
      ],
      "metadata": {
        "id": "MEPBn4XQkJJW"
      }
    },
    {
      "cell_type": "code",
      "source": [
        "# import numpy\n",
        "import numpy as np"
      ],
      "metadata": {
        "id": "8qVJJLC_kNg_"
      },
      "execution_count": null,
      "outputs": []
    },
    {
      "cell_type": "markdown",
      "source": [
        "#NumPy Array leri oluşturma"
      ],
      "metadata": {
        "id": "wLn14oWukiae"
      }
    },
    {
      "cell_type": "code",
      "source": [
        "# Arrayler çok boyutlu diziler gibi düşünülebilir.\n",
        "# Arraylerin boyutları(dimension) vardır. 0d, 1d, 2d, 3d, 4d...\n",
        "\n",
        "# Arrayleri oluşturmanın üç farklı yolu vardır.\n",
        "# 1) Liste ya da tuple benzeri nesneleri array e döndürebiliriz.           np.array([1,2,3])\n",
        "# 2) Built-in hazır fonksiyonları yardımıyla arrayler oluşturabiliriz.     np.arange(), np.linspace(), np.longspace() vb\n",
        "# 3) Rastgele data üreterek                                                np.random modülün içindeki fonksşyonlar yardımıyla"
      ],
      "metadata": {
        "id": "6Z_5pnmFkj7-"
      },
      "execution_count": null,
      "outputs": []
    },
    {
      "cell_type": "code",
      "source": [
        "np.array(53)"
      ],
      "metadata": {
        "colab": {
          "base_uri": "https://localhost:8080/"
        },
        "id": "-y9LCJoGmeu_",
        "outputId": "1cee1aed-b908-4a88-bc9b-158715187955"
      },
      "execution_count": null,
      "outputs": [
        {
          "output_type": "execute_result",
          "data": {
            "text/plain": [
              "array(53)"
            ]
          },
          "metadata": {},
          "execution_count": 5
        }
      ]
    },
    {
      "cell_type": "code",
      "source": [
        "arr0d = np.array([1,2,3])"
      ],
      "metadata": {
        "id": "Ymj0mXvJmimA"
      },
      "execution_count": null,
      "outputs": []
    },
    {
      "cell_type": "code",
      "source": [
        "arr0d"
      ],
      "metadata": {
        "colab": {
          "base_uri": "https://localhost:8080/"
        },
        "id": "DFSzXsv4mtiG",
        "outputId": "9d34ff5e-dfe7-4d64-c572-d44f9a722ff2"
      },
      "execution_count": null,
      "outputs": [
        {
          "output_type": "execute_result",
          "data": {
            "text/plain": [
              "array([1, 2, 3])"
            ]
          },
          "metadata": {},
          "execution_count": 7
        }
      ]
    },
    {
      "cell_type": "code",
      "source": [
        "arr1d = np.array([[1,2,3],[4,5,6]]) \n",
        "arr1d"
      ],
      "metadata": {
        "colab": {
          "base_uri": "https://localhost:8080/"
        },
        "id": "xFcRuxUNm5w9",
        "outputId": "f8474d24-4cd5-440a-d4d7-fefb3d630a9f"
      },
      "execution_count": null,
      "outputs": [
        {
          "output_type": "execute_result",
          "data": {
            "text/plain": [
              "array([[1, 2, 3],\n",
              "       [4, 5, 6]])"
            ]
          },
          "metadata": {},
          "execution_count": 9
        }
      ]
    },
    {
      "cell_type": "code",
      "source": [
        "arr2d = np.array([[[1,2,3],[4,5,6]], [[7,8,9],[100,200,300]]])\n",
        "arr2d"
      ],
      "metadata": {
        "colab": {
          "base_uri": "https://localhost:8080/"
        },
        "id": "v_s9B-ubnEUW",
        "outputId": "f963ff49-24f2-4d8c-e3b9-fad6e8ce4a56"
      },
      "execution_count": null,
      "outputs": [
        {
          "output_type": "execute_result",
          "data": {
            "text/plain": [
              "array([[[  1,   2,   3],\n",
              "        [  4,   5,   6]],\n",
              "\n",
              "       [[  7,   8,   9],\n",
              "        [100, 200, 300]]])"
            ]
          },
          "metadata": {},
          "execution_count": 12
        }
      ]
    },
    {
      "cell_type": "code",
      "source": [
        "arr5d = np.array([[8,7,9],[7,5,6,]])\n",
        "arr5d"
      ],
      "metadata": {
        "colab": {
          "base_uri": "https://localhost:8080/"
        },
        "id": "8YFNuS58oLXW",
        "outputId": "06affa35-1f67-4b5a-da49-1ea675218cd0"
      },
      "execution_count": null,
      "outputs": [
        {
          "output_type": "execute_result",
          "data": {
            "text/plain": [
              "array([[8, 7, 9],\n",
              "       [7, 5, 6]])"
            ]
          },
          "metadata": {},
          "execution_count": 11
        }
      ]
    },
    {
      "cell_type": "markdown",
      "source": [
        "#Built-in Functionlarla Hızlıca NumPy Arrayleri Oluşturma"
      ],
      "metadata": {
        "id": "mpxlhwkvo3-I"
      }
    },
    {
      "cell_type": "code",
      "source": [
        "# np.arrange() fonksiyonu ile hızlıca arrayler oluşturabiliriz. İstediğiniz sayı aralığında ardışık artan arrayler oluştururuz.\n",
        "# Kullanımı aynen range() gibi. Start point dahil, end point dahil değil.\n",
        "# Gene aynı range() fonksiyonlarında olduğu gibi (start-stop-step parametrelerini alır.)"
      ],
      "metadata": {
        "id": "5OuIcEqio-yn"
      },
      "execution_count": null,
      "outputs": []
    },
    {
      "cell_type": "code",
      "source": [
        "np.array([1,2,3,4,5,6,7,8,9])"
      ],
      "metadata": {
        "colab": {
          "base_uri": "https://localhost:8080/"
        },
        "id": "wyFLwHT8ppBg",
        "outputId": "8a3808f6-d725-48ab-cb70-5391cde8c36e"
      },
      "execution_count": null,
      "outputs": [
        {
          "output_type": "execute_result",
          "data": {
            "text/plain": [
              "array([1, 2, 3, 4, 5, 6, 7, 8, 9])"
            ]
          },
          "metadata": {},
          "execution_count": 13
        }
      ]
    },
    {
      "cell_type": "code",
      "source": [
        "np.arange(1,10)"
      ],
      "metadata": {
        "colab": {
          "base_uri": "https://localhost:8080/"
        },
        "id": "BtLidxm0pyjh",
        "outputId": "b98d2a30-6524-43b7-c85d-2e7c878337b2"
      },
      "execution_count": null,
      "outputs": [
        {
          "output_type": "execute_result",
          "data": {
            "text/plain": [
              "array([1, 2, 3, 4, 5, 6, 7, 8, 9])"
            ]
          },
          "metadata": {},
          "execution_count": 15
        }
      ]
    },
    {
      "cell_type": "code",
      "source": [
        "np.arange(30,100,2)"
      ],
      "metadata": {
        "colab": {
          "base_uri": "https://localhost:8080/"
        },
        "id": "Be8Q_yY_p4lR",
        "outputId": "3521a876-9ac3-41ff-cd66-ec1f889c8c5a"
      },
      "execution_count": null,
      "outputs": [
        {
          "output_type": "execute_result",
          "data": {
            "text/plain": [
              "array([30, 32, 34, 36, 38, 40, 42, 44, 46, 48, 50, 52, 54, 56, 58, 60, 62,\n",
              "       64, 66, 68, 70, 72, 74, 76, 78, 80, 82, 84, 86, 88, 90, 92, 94, 96,\n",
              "       98])"
            ]
          },
          "metadata": {},
          "execution_count": 16
        }
      ]
    },
    {
      "cell_type": "code",
      "source": [
        "# np.linspace() fonksiyonuyla da hızlıca arrayler oluşturulabilir."
      ],
      "metadata": {
        "id": "KPQtmsKmp7bQ"
      },
      "execution_count": null,
      "outputs": []
    },
    {
      "cell_type": "code",
      "source": [
        "np.linspace(30,50,6, dtype=int) #end point dahil"
      ],
      "metadata": {
        "colab": {
          "base_uri": "https://localhost:8080/"
        },
        "id": "ea89TOGYqGln",
        "outputId": "3acb449c-dce3-4e20-a0cb-cf8b8b0a8bd7"
      },
      "execution_count": null,
      "outputs": [
        {
          "output_type": "execute_result",
          "data": {
            "text/plain": [
              "array([30, 34, 38, 42, 46, 50])"
            ]
          },
          "metadata": {},
          "execution_count": 21
        }
      ]
    },
    {
      "cell_type": "code",
      "source": [
        "np.logspace(1,3,5) # 10^^1 ile 10^^3 arasında logaritmik artış yapan 5 tane veriden oluşan bir array"
      ],
      "metadata": {
        "colab": {
          "base_uri": "https://localhost:8080/"
        },
        "id": "MjUcXHAkqK9-",
        "outputId": "1dfe167e-f76d-4172-d1d1-6b64cb757749"
      },
      "execution_count": null,
      "outputs": [
        {
          "output_type": "execute_result",
          "data": {
            "text/plain": [
              "array([  10.        ,   31.6227766 ,  100.        ,  316.22776602,\n",
              "       1000.        ])"
            ]
          },
          "metadata": {},
          "execution_count": 20
        }
      ]
    },
    {
      "cell_type": "code",
      "source": [
        "np.arange(10,101,5)"
      ],
      "metadata": {
        "colab": {
          "base_uri": "https://localhost:8080/"
        },
        "id": "LxnH-DCzqRHN",
        "outputId": "4e080ac2-3464-49df-871c-6cfc5ae0943f"
      },
      "execution_count": null,
      "outputs": [
        {
          "output_type": "execute_result",
          "data": {
            "text/plain": [
              "array([ 10,  15,  20,  25,  30,  35,  40,  45,  50,  55,  60,  65,  70,\n",
              "        75,  80,  85,  90,  95, 100])"
            ]
          },
          "metadata": {},
          "execution_count": 23
        }
      ]
    },
    {
      "cell_type": "code",
      "source": [
        "np.linspace(0,100,26)"
      ],
      "metadata": {
        "colab": {
          "base_uri": "https://localhost:8080/"
        },
        "id": "ZuMHaob_rN5J",
        "outputId": "b86acb6d-98fb-429a-89a4-22c8ff7ab1d0"
      },
      "execution_count": null,
      "outputs": [
        {
          "output_type": "execute_result",
          "data": {
            "text/plain": [
              "array([  0.,   4.,   8.,  12.,  16.,  20.,  24.,  28.,  32.,  36.,  40.,\n",
              "        44.,  48.,  52.,  56.,  60.,  64.,  68.,  72.,  76.,  80.,  84.,\n",
              "        88.,  92.,  96., 100.])"
            ]
          },
          "metadata": {},
          "execution_count": 24
        }
      ]
    },
    {
      "cell_type": "code",
      "source": [
        "np.linspace(0,1000,26)"
      ],
      "metadata": {
        "colab": {
          "base_uri": "https://localhost:8080/"
        },
        "id": "0te_bCbIrtvb",
        "outputId": "3d8acf33-caff-489c-f764-0c22d2b948fd"
      },
      "execution_count": null,
      "outputs": [
        {
          "output_type": "execute_result",
          "data": {
            "text/plain": [
              "array([   0.,   40.,   80.,  120.,  160.,  200.,  240.,  280.,  320.,\n",
              "        360.,  400.,  440.,  480.,  520.,  560.,  600.,  640.,  680.,\n",
              "        720.,  760.,  800.,  840.,  880.,  920.,  960., 1000.])"
            ]
          },
          "metadata": {},
          "execution_count": 25
        }
      ]
    },
    {
      "cell_type": "code",
      "source": [
        "np.zeros(5, dtype= int)"
      ],
      "metadata": {
        "colab": {
          "base_uri": "https://localhost:8080/"
        },
        "id": "w3O_A-CLr9ks",
        "outputId": "c8d5fb3a-a650-4344-bdc3-1fc489a84a21"
      },
      "execution_count": null,
      "outputs": [
        {
          "output_type": "execute_result",
          "data": {
            "text/plain": [
              "array([0, 0, 0, 0, 0])"
            ]
          },
          "metadata": {},
          "execution_count": 27
        }
      ]
    },
    {
      "cell_type": "code",
      "source": [
        "np.zeros((2,3), dtype= int)"
      ],
      "metadata": {
        "colab": {
          "base_uri": "https://localhost:8080/"
        },
        "id": "yfhRfXX0scyh",
        "outputId": "71ffb24b-4049-4d57-8617-47bb9e40a16f"
      },
      "execution_count": null,
      "outputs": [
        {
          "output_type": "execute_result",
          "data": {
            "text/plain": [
              "array([[0, 0, 0],\n",
              "       [0, 0, 0]])"
            ]
          },
          "metadata": {},
          "execution_count": 28
        }
      ]
    },
    {
      "cell_type": "code",
      "source": [
        "np.zeros((5,8), dtype= int)"
      ],
      "metadata": {
        "colab": {
          "base_uri": "https://localhost:8080/"
        },
        "id": "pgkovxplsl2M",
        "outputId": "64c63027-3da5-4db6-f272-6f96f1240562"
      },
      "execution_count": null,
      "outputs": [
        {
          "output_type": "execute_result",
          "data": {
            "text/plain": [
              "array([[0, 0, 0, 0, 0, 0, 0, 0],\n",
              "       [0, 0, 0, 0, 0, 0, 0, 0],\n",
              "       [0, 0, 0, 0, 0, 0, 0, 0],\n",
              "       [0, 0, 0, 0, 0, 0, 0, 0],\n",
              "       [0, 0, 0, 0, 0, 0, 0, 0]])"
            ]
          },
          "metadata": {},
          "execution_count": 29
        }
      ]
    },
    {
      "cell_type": "code",
      "source": [
        "np.ones(10)"
      ],
      "metadata": {
        "colab": {
          "base_uri": "https://localhost:8080/"
        },
        "id": "owsDsYW8wRAx",
        "outputId": "f0f46d02-6b47-49cf-ab85-b278cab3dbb1"
      },
      "execution_count": null,
      "outputs": [
        {
          "output_type": "execute_result",
          "data": {
            "text/plain": [
              "array([1., 1., 1., 1., 1., 1., 1., 1., 1., 1.])"
            ]
          },
          "metadata": {},
          "execution_count": 31
        }
      ]
    },
    {
      "cell_type": "code",
      "source": [
        "np.ones((3,5), dtype= int)"
      ],
      "metadata": {
        "colab": {
          "base_uri": "https://localhost:8080/"
        },
        "id": "iNbnr8mFwV1G",
        "outputId": "6dc5a207-d3db-4220-e767-96b0dbf11d5e"
      },
      "execution_count": null,
      "outputs": [
        {
          "output_type": "execute_result",
          "data": {
            "text/plain": [
              "array([[1, 1, 1, 1, 1],\n",
              "       [1, 1, 1, 1, 1],\n",
              "       [1, 1, 1, 1, 1]])"
            ]
          },
          "metadata": {},
          "execution_count": 32
        }
      ]
    },
    {
      "cell_type": "code",
      "source": [
        "np.ones((2,3,5),dtype= int)"
      ],
      "metadata": {
        "colab": {
          "base_uri": "https://localhost:8080/"
        },
        "id": "0_D7G1t_waVK",
        "outputId": "482e8406-d54d-4993-e312-ceb7cb262152"
      },
      "execution_count": null,
      "outputs": [
        {
          "output_type": "execute_result",
          "data": {
            "text/plain": [
              "array([[[1, 1, 1, 1, 1],\n",
              "        [1, 1, 1, 1, 1],\n",
              "        [1, 1, 1, 1, 1]],\n",
              "\n",
              "       [[1, 1, 1, 1, 1],\n",
              "        [1, 1, 1, 1, 1],\n",
              "        [1, 1, 1, 1, 1]]])"
            ]
          },
          "metadata": {},
          "execution_count": 33
        }
      ]
    },
    {
      "cell_type": "code",
      "source": [
        "np.eye(5, dtype= int) # 5x5 birim matris "
      ],
      "metadata": {
        "colab": {
          "base_uri": "https://localhost:8080/"
        },
        "id": "jLT8Kjt_wqiD",
        "outputId": "bedde990-0f81-4ede-f978-0a63cfb985b1"
      },
      "execution_count": null,
      "outputs": [
        {
          "output_type": "execute_result",
          "data": {
            "text/plain": [
              "array([[1, 0, 0, 0, 0],\n",
              "       [0, 1, 0, 0, 0],\n",
              "       [0, 0, 1, 0, 0],\n",
              "       [0, 0, 0, 1, 0],\n",
              "       [0, 0, 0, 0, 1]])"
            ]
          },
          "metadata": {},
          "execution_count": 35
        }
      ]
    },
    {
      "cell_type": "code",
      "source": [
        "np.zeros((2,6), dtype= int)"
      ],
      "metadata": {
        "colab": {
          "base_uri": "https://localhost:8080/"
        },
        "id": "ab7XZQnSw2iy",
        "outputId": "560c9d4f-47fc-4616-b537-c2d00c552b16"
      },
      "execution_count": null,
      "outputs": [
        {
          "output_type": "execute_result",
          "data": {
            "text/plain": [
              "array([[0, 0, 0, 0, 0, 0],\n",
              "       [0, 0, 0, 0, 0, 0]])"
            ]
          },
          "metadata": {},
          "execution_count": 38
        }
      ]
    },
    {
      "cell_type": "code",
      "source": [
        "# np.random() modülünü kullanarak rastgele verilerle arrayler oluşturmak."
      ],
      "metadata": {
        "id": "dLHcJVlAw8Tm"
      },
      "execution_count": null,
      "outputs": []
    },
    {
      "cell_type": "code",
      "source": [
        "np.random.rand(3) # 3 tane 0-1 aralığında değerden oluşan bir array oluşturur"
      ],
      "metadata": {
        "colab": {
          "base_uri": "https://localhost:8080/"
        },
        "id": "p6dB2OPRxhe3",
        "outputId": "bbfb4c95-18c4-48c7-b4b5-115e46fdb3c6"
      },
      "execution_count": null,
      "outputs": [
        {
          "output_type": "execute_result",
          "data": {
            "text/plain": [
              "array([0.37455272, 0.63855212, 0.16058118])"
            ]
          },
          "metadata": {},
          "execution_count": 41
        }
      ]
    },
    {
      "cell_type": "code",
      "source": [
        "np.random.rand(2,5) # artı bir parantez almıyor. tuple değilmiş."
      ],
      "metadata": {
        "colab": {
          "base_uri": "https://localhost:8080/"
        },
        "id": "VyRenuArxyS1",
        "outputId": "c66c5065-3d97-4950-f1be-61448bafd6f3"
      },
      "execution_count": null,
      "outputs": [
        {
          "output_type": "execute_result",
          "data": {
            "text/plain": [
              "array([[0.32687298, 0.49912402, 0.28275705, 0.59306611, 0.19189471],\n",
              "       [0.56615418, 0.37166927, 0.91768411, 0.92090853, 0.24151294]])"
            ]
          },
          "metadata": {},
          "execution_count": 44
        }
      ]
    },
    {
      "cell_type": "code",
      "source": [
        "np.random.rand(3)*10 #3 tane 0 ile 10 arasında random bir array oluşturur."
      ],
      "metadata": {
        "colab": {
          "base_uri": "https://localhost:8080/"
        },
        "id": "YjVaFeVhx_r4",
        "outputId": "81e60014-04d8-45d0-dbfa-a44f134a8de3"
      },
      "execution_count": null,
      "outputs": [
        {
          "output_type": "execute_result",
          "data": {
            "text/plain": [
              "array([0.04294607, 1.40721403, 0.55351032])"
            ]
          },
          "metadata": {},
          "execution_count": 46
        }
      ]
    },
    {
      "cell_type": "code",
      "source": [
        "np.random.randint(15,50,5)"
      ],
      "metadata": {
        "colab": {
          "base_uri": "https://localhost:8080/"
        },
        "id": "Yo3cBM5QyVWC",
        "outputId": "18031cee-9f1a-4173-bd4a-fb7e6468e157"
      },
      "execution_count": null,
      "outputs": [
        {
          "output_type": "execute_result",
          "data": {
            "text/plain": [
              "array([26, 32, 19, 18, 16])"
            ]
          },
          "metadata": {},
          "execution_count": 47
        }
      ]
    },
    {
      "cell_type": "code",
      "source": [
        "np.random.randint(0,100,(3,6))"
      ],
      "metadata": {
        "colab": {
          "base_uri": "https://localhost:8080/"
        },
        "id": "6JyKUu4Cyn-_",
        "outputId": "ab90321b-213b-47c6-f51b-aa4ef87487fa"
      },
      "execution_count": null,
      "outputs": [
        {
          "output_type": "execute_result",
          "data": {
            "text/plain": [
              "array([[90,  3, 16, 82, 12, 36],\n",
              "       [43, 28, 21, 17, 91, 55],\n",
              "       [16, 28, 95, 62, 27, 70]])"
            ]
          },
          "metadata": {},
          "execution_count": 48
        }
      ]
    },
    {
      "cell_type": "code",
      "source": [
        "np.random.randint(0,100,200)"
      ],
      "metadata": {
        "colab": {
          "base_uri": "https://localhost:8080/"
        },
        "id": "xk5yUkFdy2YU",
        "outputId": "1ea8f4c1-2ed1-4081-ae0a-b5a7226a5ee8"
      },
      "execution_count": null,
      "outputs": [
        {
          "output_type": "execute_result",
          "data": {
            "text/plain": [
              "array([ 1, 73, 18, 89, 94, 15,  9, 19, 66, 89, 26, 68, 40, 57, 56, 62, 32,\n",
              "       23, 28, 55, 58, 63, 49, 97, 86, 53, 22, 88,  5, 91, 49, 44, 49, 43,\n",
              "       70, 29, 41, 41, 83, 77, 65, 88, 16,  0, 37, 11, 82, 63, 79, 33,  0,\n",
              "        8, 39, 65, 91, 34, 19,  5,  7, 21, 53, 58, 10, 41, 56, 74, 11, 61,\n",
              "       78, 19, 29, 36, 79, 87,  8, 89, 33, 14, 25, 75, 24, 58, 17, 94, 13,\n",
              "       12, 38, 97, 84, 88, 62, 47, 32, 56, 73, 38, 88, 86, 78, 70, 67,  4,\n",
              "       71, 50, 76,  5, 20, 45, 88, 62, 29, 55, 99, 40, 23, 97, 91, 11,  3,\n",
              "       87,  5, 92, 82, 40, 70, 45, 46, 49, 98, 41, 51, 19, 74, 99, 50, 71,\n",
              "       52, 89, 68, 21, 18, 62, 91, 98,  0, 32, 56, 86, 87, 69, 32, 98,  2,\n",
              "       55, 73, 48, 64, 86,  9, 63, 51, 95, 57, 74,  7, 43, 50, 37, 39, 47,\n",
              "       20, 52,  1, 31, 24, 81, 30, 54, 39,  0, 89, 21, 76, 10, 44, 92, 29,\n",
              "       11, 40, 70, 82,  3, 54, 23, 91, 44, 40, 65, 31, 55])"
            ]
          },
          "metadata": {},
          "execution_count": 49
        }
      ]
    },
    {
      "cell_type": "code",
      "source": [
        "np.random.randint(0,50,(4,6))"
      ],
      "metadata": {
        "colab": {
          "base_uri": "https://localhost:8080/"
        },
        "id": "Zqph2FFay7SN",
        "outputId": "9c29efad-e70e-4d7b-da5b-d82d296dece7"
      },
      "execution_count": null,
      "outputs": [
        {
          "output_type": "execute_result",
          "data": {
            "text/plain": [
              "array([[ 2,  1, 38, 28, 30,  5],\n",
              "       [25, 29, 23, 36, 38,  5],\n",
              "       [49, 14, 29, 21,  1, 44],\n",
              "       [39, 32, 23, 15, 15, 41]])"
            ]
          },
          "metadata": {},
          "execution_count": 50
        }
      ]
    },
    {
      "cell_type": "markdown",
      "source": [
        "#Array in Boyut Sayısını ve Shapeini Kontrol Etmek"
      ],
      "metadata": {
        "id": "TN3gzbHBze-M"
      }
    },
    {
      "cell_type": "code",
      "source": [
        "arr0d"
      ],
      "metadata": {
        "colab": {
          "base_uri": "https://localhost:8080/"
        },
        "id": "0BWVjFcYzlYl",
        "outputId": "973d2d1d-9bb8-4bd4-9219-af9e6ac20968"
      },
      "execution_count": null,
      "outputs": [
        {
          "output_type": "execute_result",
          "data": {
            "text/plain": [
              "array([1, 2, 3])"
            ]
          },
          "metadata": {},
          "execution_count": 51
        }
      ]
    },
    {
      "cell_type": "code",
      "source": [
        "arr1d"
      ],
      "metadata": {
        "colab": {
          "base_uri": "https://localhost:8080/"
        },
        "id": "qSG6mwF-ztyZ",
        "outputId": "8e988ba9-26d4-4160-d6e0-1b4e82507603"
      },
      "execution_count": null,
      "outputs": [
        {
          "output_type": "execute_result",
          "data": {
            "text/plain": [
              "array([[1, 2, 3],\n",
              "       [4, 5, 6]])"
            ]
          },
          "metadata": {},
          "execution_count": 52
        }
      ]
    },
    {
      "cell_type": "code",
      "source": [
        "arr2d"
      ],
      "metadata": {
        "colab": {
          "base_uri": "https://localhost:8080/"
        },
        "id": "oPbk8a9Qzuuy",
        "outputId": "11c20a3a-feb7-4bd0-f33a-5b9226e0cf8d"
      },
      "execution_count": null,
      "outputs": [
        {
          "output_type": "execute_result",
          "data": {
            "text/plain": [
              "array([[[  1,   2,   3],\n",
              "        [  4,   5,   6]],\n",
              "\n",
              "       [[  7,   8,   9],\n",
              "        [100, 200, 300]]])"
            ]
          },
          "metadata": {},
          "execution_count": 54
        }
      ]
    },
    {
      "cell_type": "code",
      "source": [
        "# .ndim attribute ı ile arraylerimizin kaç bpyutlu olduğuna bakabiliriz."
      ],
      "metadata": {
        "id": "elKmLb9Dzv29"
      },
      "execution_count": null,
      "outputs": []
    },
    {
      "cell_type": "code",
      "source": [
        "arr0d.ndim"
      ],
      "metadata": {
        "colab": {
          "base_uri": "https://localhost:8080/"
        },
        "id": "iPGAJIGdz9Oj",
        "outputId": "9bb91a93-9c3d-4a7e-bd39-cc2070ffe227"
      },
      "execution_count": null,
      "outputs": [
        {
          "output_type": "execute_result",
          "data": {
            "text/plain": [
              "1"
            ]
          },
          "metadata": {},
          "execution_count": 56
        }
      ]
    },
    {
      "cell_type": "code",
      "source": [
        "arr1d.ndim"
      ],
      "metadata": {
        "colab": {
          "base_uri": "https://localhost:8080/"
        },
        "id": "1k7p7C8dz_bF",
        "outputId": "b60c49d5-e1e5-4da2-ab38-0baeb44b73f4"
      },
      "execution_count": null,
      "outputs": [
        {
          "output_type": "execute_result",
          "data": {
            "text/plain": [
              "2"
            ]
          },
          "metadata": {},
          "execution_count": 57
        }
      ]
    },
    {
      "cell_type": "code",
      "source": [
        "# .shape attribute ü ile arrayin shapeine bakılabilir.\n",
        "# Bir arrayin shape i her boyuttaki ögelerinin sayısına eşittir."
      ],
      "metadata": {
        "id": "AFfZoRZe0BTV"
      },
      "execution_count": null,
      "outputs": []
    },
    {
      "cell_type": "code",
      "source": [
        "arr1d.shape"
      ],
      "metadata": {
        "colab": {
          "base_uri": "https://localhost:8080/"
        },
        "id": "AF2O0GE00V-W",
        "outputId": "98103cc6-5539-4e2e-b0e0-ca87f67f523e"
      },
      "execution_count": null,
      "outputs": [
        {
          "output_type": "execute_result",
          "data": {
            "text/plain": [
              "(2, 3)"
            ]
          },
          "metadata": {},
          "execution_count": 59
        }
      ]
    },
    {
      "cell_type": "code",
      "source": [
        "arr1d"
      ],
      "metadata": {
        "colab": {
          "base_uri": "https://localhost:8080/"
        },
        "id": "V9_i43Te0X7t",
        "outputId": "3f6c567f-dcdc-4185-8619-eaa336d19361"
      },
      "execution_count": null,
      "outputs": [
        {
          "output_type": "execute_result",
          "data": {
            "text/plain": [
              "array([[1, 2, 3],\n",
              "       [4, 5, 6]])"
            ]
          },
          "metadata": {},
          "execution_count": 60
        }
      ]
    },
    {
      "cell_type": "code",
      "source": [
        "arr2d"
      ],
      "metadata": {
        "colab": {
          "base_uri": "https://localhost:8080/"
        },
        "id": "AGqoe6SG0ZvM",
        "outputId": "3e3a4cab-5cb7-4146-a5f4-0dd035fb9bd7"
      },
      "execution_count": null,
      "outputs": [
        {
          "output_type": "execute_result",
          "data": {
            "text/plain": [
              "array([[[  1,   2,   3],\n",
              "        [  4,   5,   6]],\n",
              "\n",
              "       [[  7,   8,   9],\n",
              "        [100, 200, 300]]])"
            ]
          },
          "metadata": {},
          "execution_count": 61
        }
      ]
    },
    {
      "cell_type": "code",
      "source": [
        "arr2d.shape"
      ],
      "metadata": {
        "colab": {
          "base_uri": "https://localhost:8080/"
        },
        "id": "7B6y6LmN0bPA",
        "outputId": "ac3c97fb-7a0b-4c25-8378-70f17ba13253"
      },
      "execution_count": null,
      "outputs": [
        {
          "output_type": "execute_result",
          "data": {
            "text/plain": [
              "(2, 2, 3)"
            ]
          },
          "metadata": {},
          "execution_count": 63
        }
      ]
    },
    {
      "cell_type": "code",
      "source": [
        "arr4d = np.array([[ [1,2,3], [4,5,6], [10,25,35], [40,50,60]], [[10,20,30],[5,10,20],[11,22,33],[4,55,66] ]])\n",
        "arr4d"
      ],
      "metadata": {
        "colab": {
          "base_uri": "https://localhost:8080/"
        },
        "id": "5eU6i_CrgIiB",
        "outputId": "313adbd1-82e0-4e60-ddb3-10eb44354a74"
      },
      "execution_count": null,
      "outputs": [
        {
          "output_type": "execute_result",
          "data": {
            "text/plain": [
              "array([[[ 1,  2,  3],\n",
              "        [ 4,  5,  6],\n",
              "        [10, 25, 35],\n",
              "        [40, 50, 60]],\n",
              "\n",
              "       [[10, 20, 30],\n",
              "        [ 5, 10, 20],\n",
              "        [11, 22, 33],\n",
              "        [ 4, 55, 66]]])"
            ]
          },
          "metadata": {},
          "execution_count": 7
        }
      ]
    },
    {
      "cell_type": "code",
      "source": [
        "arr4d.ndim"
      ],
      "metadata": {
        "colab": {
          "base_uri": "https://localhost:8080/"
        },
        "id": "eGJAx4uJgr_D",
        "outputId": "3c58152e-d66e-441c-8776-6e3083321ee8"
      },
      "execution_count": null,
      "outputs": [
        {
          "output_type": "execute_result",
          "data": {
            "text/plain": [
              "3"
            ]
          },
          "metadata": {},
          "execution_count": 4
        }
      ]
    },
    {
      "cell_type": "code",
      "source": [
        "arr4d.shape"
      ],
      "metadata": {
        "colab": {
          "base_uri": "https://localhost:8080/"
        },
        "id": "1jIBUXlzgwU7",
        "outputId": "7cc815f0-b648-4c58-faa2-fd1025f5fd46"
      },
      "execution_count": null,
      "outputs": [
        {
          "output_type": "execute_result",
          "data": {
            "text/plain": [
              "(2, 4, 3)"
            ]
          },
          "metadata": {},
          "execution_count": 5
        }
      ]
    },
    {
      "cell_type": "markdown",
      "source": [
        "# NumPy Arraylerini İndexleme ve Öğelerine Erişme"
      ],
      "metadata": {
        "id": "V7a1W_iI02Ah"
      }
    },
    {
      "cell_type": "code",
      "source": [
        "arr0d # 1 boyutlu arrayler listeler gibi düşünülebilir."
      ],
      "metadata": {
        "colab": {
          "base_uri": "https://localhost:8080/"
        },
        "id": "2MKVI7Fp055N",
        "outputId": "528a73ad-e85a-4df3-b412-36bcc56c40b9"
      },
      "execution_count": null,
      "outputs": [
        {
          "output_type": "execute_result",
          "data": {
            "text/plain": [
              "array([1, 2, 3])"
            ]
          },
          "metadata": {},
          "execution_count": 67
        }
      ]
    },
    {
      "cell_type": "code",
      "source": [
        "arr0d[0]"
      ],
      "metadata": {
        "colab": {
          "base_uri": "https://localhost:8080/"
        },
        "id": "jK1StK_40_Rs",
        "outputId": "02bd65db-5bed-4103-bf8a-eeeabef860be"
      },
      "execution_count": null,
      "outputs": [
        {
          "output_type": "execute_result",
          "data": {
            "text/plain": [
              "1"
            ]
          },
          "metadata": {},
          "execution_count": 68
        }
      ]
    },
    {
      "cell_type": "code",
      "source": [
        "arr2d"
      ],
      "metadata": {
        "colab": {
          "base_uri": "https://localhost:8080/"
        },
        "id": "1KW5mkbe1IX5",
        "outputId": "7953ef94-30c4-4453-d0fa-738440df63ba"
      },
      "execution_count": null,
      "outputs": [
        {
          "output_type": "execute_result",
          "data": {
            "text/plain": [
              "array([[[  1,   2,   3],\n",
              "        [  4,   5,   6]],\n",
              "\n",
              "       [[  7,   8,   9],\n",
              "        [100, 200, 300]]])"
            ]
          },
          "metadata": {},
          "execution_count": 69
        }
      ]
    },
    {
      "cell_type": "code",
      "source": [
        "arr2d[0][0][0] # arr2d[0,0,0]"
      ],
      "metadata": {
        "colab": {
          "base_uri": "https://localhost:8080/"
        },
        "id": "zaUOxRW81M6_",
        "outputId": "acbfafef-40ff-42d1-b553-f2e8a8b56d44"
      },
      "execution_count": null,
      "outputs": [
        {
          "output_type": "execute_result",
          "data": {
            "text/plain": [
              "1"
            ]
          },
          "metadata": {},
          "execution_count": 72
        }
      ]
    },
    {
      "cell_type": "code",
      "source": [
        "arr2d[0,1,2]"
      ],
      "metadata": {
        "colab": {
          "base_uri": "https://localhost:8080/"
        },
        "id": "_u-q_Qyb1PKu",
        "outputId": "d15ca015-4061-4988-e200-0ad2969196f8"
      },
      "execution_count": null,
      "outputs": [
        {
          "output_type": "execute_result",
          "data": {
            "text/plain": [
              "6"
            ]
          },
          "metadata": {},
          "execution_count": 74
        }
      ]
    },
    {
      "cell_type": "code",
      "source": [
        "arr2d[1,0,-1] # negatif indeksleme sondan olarak gösterir sondan 1. gibi"
      ],
      "metadata": {
        "colab": {
          "base_uri": "https://localhost:8080/"
        },
        "id": "Q4KFCHLV1zfM",
        "outputId": "aa904cf8-12e2-4c81-c706-9d75fcd13bfe"
      },
      "execution_count": null,
      "outputs": [
        {
          "output_type": "execute_result",
          "data": {
            "text/plain": [
              "9"
            ]
          },
          "metadata": {},
          "execution_count": 76
        }
      ]
    },
    {
      "cell_type": "code",
      "source": [
        "arr8d = np.arange(53,62)\n",
        "arr8d[4]"
      ],
      "metadata": {
        "colab": {
          "base_uri": "https://localhost:8080/"
        },
        "id": "f8ul9qEx1m7Y",
        "outputId": "29b227c8-d011-4848-a2a0-64a2fe50f7ff"
      },
      "execution_count": null,
      "outputs": [
        {
          "output_type": "execute_result",
          "data": {
            "text/plain": [
              "57"
            ]
          },
          "metadata": {},
          "execution_count": 78
        }
      ]
    },
    {
      "cell_type": "markdown",
      "source": [
        "# NumPy Dizilerinin Maximum-Minimum Elemanlarına ve Bu Elemanların İndexlerine Erişme"
      ],
      "metadata": {
        "id": "fWTjYhsZ2-kn"
      }
    },
    {
      "cell_type": "code",
      "source": [
        "arr = np.random.randint(1,100,10)\n",
        "arr"
      ],
      "metadata": {
        "colab": {
          "base_uri": "https://localhost:8080/"
        },
        "id": "8D7RyDrF3FMn",
        "outputId": "9fe420da-3b57-4e5a-dfb4-dd275fb3c562"
      },
      "execution_count": null,
      "outputs": [
        {
          "output_type": "execute_result",
          "data": {
            "text/plain": [
              "array([35, 14, 68, 10,  1, 57, 37,  1, 73, 63])"
            ]
          },
          "metadata": {},
          "execution_count": 81
        }
      ]
    },
    {
      "cell_type": "code",
      "source": [
        "arr.max()"
      ],
      "metadata": {
        "colab": {
          "base_uri": "https://localhost:8080/"
        },
        "id": "Qda3D1y13Lo5",
        "outputId": "135edf9a-2418-471e-a0c8-5d01801840cc"
      },
      "execution_count": null,
      "outputs": [
        {
          "output_type": "execute_result",
          "data": {
            "text/plain": [
              "73"
            ]
          },
          "metadata": {},
          "execution_count": 82
        }
      ]
    },
    {
      "cell_type": "code",
      "source": [
        "arr.argmax()"
      ],
      "metadata": {
        "colab": {
          "base_uri": "https://localhost:8080/"
        },
        "id": "EFKf3w1M3U3b",
        "outputId": "b851bd88-0471-46c0-ce7a-4421590e3391"
      },
      "execution_count": null,
      "outputs": [
        {
          "output_type": "execute_result",
          "data": {
            "text/plain": [
              "8"
            ]
          },
          "metadata": {},
          "execution_count": 83
        }
      ]
    },
    {
      "cell_type": "code",
      "source": [
        "arr.argmin()"
      ],
      "metadata": {
        "colab": {
          "base_uri": "https://localhost:8080/"
        },
        "id": "DKh-ay063dJt",
        "outputId": "68749307-3836-420c-c790-54a4e67edcd5"
      },
      "execution_count": null,
      "outputs": [
        {
          "output_type": "execute_result",
          "data": {
            "text/plain": [
              "4"
            ]
          },
          "metadata": {},
          "execution_count": 84
        }
      ]
    },
    {
      "cell_type": "markdown",
      "source": [
        "#NumPy Arraylerinde Slicing(Dilimleme) Yapılabilir"
      ],
      "metadata": {
        "id": "edmdf80R3zqc"
      }
    },
    {
      "cell_type": "code",
      "source": [
        "arr = np.arange(50,65)\n",
        "arr"
      ],
      "metadata": {
        "colab": {
          "base_uri": "https://localhost:8080/"
        },
        "id": "RUq9qHOU35ps",
        "outputId": "1bdbba50-f19c-40a3-8ed0-15015f09ba6a"
      },
      "execution_count": null,
      "outputs": [
        {
          "output_type": "execute_result",
          "data": {
            "text/plain": [
              "array([50, 51, 52, 53, 54, 55, 56, 57, 58, 59, 60, 61, 62, 63, 64])"
            ]
          },
          "metadata": {},
          "execution_count": 87
        }
      ]
    },
    {
      "cell_type": "code",
      "source": [
        "arr[5:11]"
      ],
      "metadata": {
        "colab": {
          "base_uri": "https://localhost:8080/"
        },
        "id": "CM9INNsi4A4Y",
        "outputId": "b0db71c9-ef62-4e52-a02d-4db46b7d8953"
      },
      "execution_count": null,
      "outputs": [
        {
          "output_type": "execute_result",
          "data": {
            "text/plain": [
              "array([55, 56, 57, 58, 59, 60])"
            ]
          },
          "metadata": {},
          "execution_count": 88
        }
      ]
    },
    {
      "cell_type": "code",
      "source": [
        "arr[-5:] # iki noktadan sonra boş bırakılırsa sonuna kadar gider"
      ],
      "metadata": {
        "colab": {
          "base_uri": "https://localhost:8080/"
        },
        "id": "p26a3mBB4TsC",
        "outputId": "1da0c928-176d-48f9-9ef7-10ebb7b83bf4"
      },
      "execution_count": null,
      "outputs": [
        {
          "output_type": "execute_result",
          "data": {
            "text/plain": [
              "array([60, 61, 62, 63, 64])"
            ]
          },
          "metadata": {},
          "execution_count": 89
        }
      ]
    },
    {
      "cell_type": "code",
      "source": [
        "arr[2:10:2]"
      ],
      "metadata": {
        "colab": {
          "base_uri": "https://localhost:8080/"
        },
        "id": "Y255EI7S4fx1",
        "outputId": "42d49062-6e00-4dc3-8cbc-d2e6e4e471f4"
      },
      "execution_count": null,
      "outputs": [
        {
          "output_type": "execute_result",
          "data": {
            "text/plain": [
              "array([52, 54, 56, 58])"
            ]
          },
          "metadata": {},
          "execution_count": 90
        }
      ]
    },
    {
      "cell_type": "code",
      "source": [
        "arr[5:11] = 999 # Broadcasting\n",
        "arr"
      ],
      "metadata": {
        "colab": {
          "base_uri": "https://localhost:8080/"
        },
        "id": "4-geimaN45cI",
        "outputId": "adb550a8-65c7-4735-c3da-ab36bd001b55"
      },
      "execution_count": null,
      "outputs": [
        {
          "output_type": "execute_result",
          "data": {
            "text/plain": [
              "array([ 50,  51,  52,  53,  54, 999, 999, 999, 999, 999, 999,  61,  62,\n",
              "        63,  64])"
            ]
          },
          "metadata": {},
          "execution_count": 93
        }
      ]
    },
    {
      "cell_type": "code",
      "source": [
        "arr = np.arange(-30,11)\n",
        "arr[5:19]"
      ],
      "metadata": {
        "colab": {
          "base_uri": "https://localhost:8080/"
        },
        "id": "yYGFSabL5Qez",
        "outputId": "413c374b-fbdb-4b4e-8674-a43bc1f37f5d"
      },
      "execution_count": null,
      "outputs": [
        {
          "output_type": "execute_result",
          "data": {
            "text/plain": [
              "array([-25, -24, -23, -22, -21, -20, -19, -18, -17, -16, -15, -14, -13,\n",
              "       -12])"
            ]
          },
          "metadata": {},
          "execution_count": 96
        }
      ]
    },
    {
      "cell_type": "markdown",
      "source": [
        "# Bir Arrayin Veri Türünü (Data Type ını) Kontrol Etme"
      ],
      "metadata": {
        "id": "xgfYNyCM6ziy"
      }
    },
    {
      "cell_type": "code",
      "source": [
        "# .dtype attribute i ile data type ı kontrol edilebilir."
      ],
      "metadata": {
        "id": "owxlquMG65UI"
      },
      "execution_count": null,
      "outputs": []
    },
    {
      "cell_type": "code",
      "source": [
        "arr = np.arange(10)\n",
        "arr"
      ],
      "metadata": {
        "colab": {
          "base_uri": "https://localhost:8080/"
        },
        "id": "JEFyA6D97S_x",
        "outputId": "ea327b4e-ca38-45f6-8d43-744126fb423b"
      },
      "execution_count": null,
      "outputs": [
        {
          "output_type": "execute_result",
          "data": {
            "text/plain": [
              "array([0, 1, 2, 3, 4, 5, 6, 7, 8, 9])"
            ]
          },
          "metadata": {},
          "execution_count": 98
        }
      ]
    },
    {
      "cell_type": "code",
      "source": [
        "arr.dtype"
      ],
      "metadata": {
        "colab": {
          "base_uri": "https://localhost:8080/"
        },
        "id": "NFVIfLsL7X25",
        "outputId": "9df12b03-ef49-4f0b-a8c0-889d229d6fc8"
      },
      "execution_count": null,
      "outputs": [
        {
          "output_type": "execute_result",
          "data": {
            "text/plain": [
              "dtype('int64')"
            ]
          },
          "metadata": {},
          "execution_count": 99
        }
      ]
    },
    {
      "cell_type": "code",
      "source": [
        "arr2 = np.arange(100, dtype= 'float')\n",
        "arr2"
      ],
      "metadata": {
        "colab": {
          "base_uri": "https://localhost:8080/"
        },
        "id": "CWcGZydQ7ZSC",
        "outputId": "0a09b313-1daa-4b8a-9f9a-99d9785cd28f"
      },
      "execution_count": null,
      "outputs": [
        {
          "output_type": "execute_result",
          "data": {
            "text/plain": [
              "array([ 0.,  1.,  2.,  3.,  4.,  5.,  6.,  7.,  8.,  9., 10., 11., 12.,\n",
              "       13., 14., 15., 16., 17., 18., 19., 20., 21., 22., 23., 24., 25.,\n",
              "       26., 27., 28., 29., 30., 31., 32., 33., 34., 35., 36., 37., 38.,\n",
              "       39., 40., 41., 42., 43., 44., 45., 46., 47., 48., 49., 50., 51.,\n",
              "       52., 53., 54., 55., 56., 57., 58., 59., 60., 61., 62., 63., 64.,\n",
              "       65., 66., 67., 68., 69., 70., 71., 72., 73., 74., 75., 76., 77.,\n",
              "       78., 79., 80., 81., 82., 83., 84., 85., 86., 87., 88., 89., 90.,\n",
              "       91., 92., 93., 94., 95., 96., 97., 98., 99.])"
            ]
          },
          "metadata": {},
          "execution_count": 100
        }
      ]
    },
    {
      "cell_type": "code",
      "source": [
        "arr2.dtype"
      ],
      "metadata": {
        "colab": {
          "base_uri": "https://localhost:8080/"
        },
        "id": "QaNUWwd87lpx",
        "outputId": "b7d7407c-23da-4e22-a1a7-2c8c000bad17"
      },
      "execution_count": null,
      "outputs": [
        {
          "output_type": "execute_result",
          "data": {
            "text/plain": [
              "dtype('float64')"
            ]
          },
          "metadata": {},
          "execution_count": 101
        }
      ]
    },
    {
      "cell_type": "code",
      "source": [
        "arr3 = np.array(['a','b','c'])\n",
        "arr3"
      ],
      "metadata": {
        "colab": {
          "base_uri": "https://localhost:8080/"
        },
        "id": "UYY0w6S47n_3",
        "outputId": "599cea78-a4db-424c-a3ad-7a1bdba36e88"
      },
      "execution_count": null,
      "outputs": [
        {
          "output_type": "execute_result",
          "data": {
            "text/plain": [
              "array(['a', 'b', 'c'], dtype='<U1')"
            ]
          },
          "metadata": {},
          "execution_count": 102
        }
      ]
    },
    {
      "cell_type": "code",
      "source": [
        "arr3.dtype"
      ],
      "metadata": {
        "colab": {
          "base_uri": "https://localhost:8080/"
        },
        "id": "igeS3f4P7wno",
        "outputId": "3f0348eb-377b-4f7a-9128-7a90b8612bed"
      },
      "execution_count": null,
      "outputs": [
        {
          "output_type": "execute_result",
          "data": {
            "text/plain": [
              "dtype('<U1')"
            ]
          },
          "metadata": {},
          "execution_count": 103
        }
      ]
    },
    {
      "cell_type": "markdown",
      "source": [
        "# Bir Arrayin Dtype'ını Değiştirme"
      ],
      "metadata": {
        "id": "-vXyhJnD70k3"
      }
    },
    {
      "cell_type": "code",
      "source": [
        "arr= np.array([1.2, 3.5, 5.8])\n",
        "arr"
      ],
      "metadata": {
        "colab": {
          "base_uri": "https://localhost:8080/"
        },
        "id": "BAEE3Vq_75H9",
        "outputId": "6dfc456d-4735-4692-a258-9ccb08ca899b"
      },
      "execution_count": null,
      "outputs": [
        {
          "output_type": "execute_result",
          "data": {
            "text/plain": [
              "array([1.2, 3.5, 5.8])"
            ]
          },
          "metadata": {},
          "execution_count": 105
        }
      ]
    },
    {
      "cell_type": "code",
      "source": [
        "arr.dtype"
      ],
      "metadata": {
        "colab": {
          "base_uri": "https://localhost:8080/"
        },
        "id": "6OLDu4tU7_VK",
        "outputId": "8c4ba6f9-cee5-4028-fdc2-139199c6b71a"
      },
      "execution_count": null,
      "outputs": [
        {
          "output_type": "execute_result",
          "data": {
            "text/plain": [
              "dtype('float64')"
            ]
          },
          "metadata": {},
          "execution_count": 106
        }
      ]
    },
    {
      "cell_type": "code",
      "source": [
        "# .astype() metodu ile arraylerin dtype ı değiştirilebilir"
      ],
      "metadata": {
        "id": "_Oll0HpW8CzJ"
      },
      "execution_count": null,
      "outputs": []
    },
    {
      "cell_type": "code",
      "source": [
        "arr.astype('int')"
      ],
      "metadata": {
        "colab": {
          "base_uri": "https://localhost:8080/"
        },
        "id": "DhRQCl558Jow",
        "outputId": "ee2de22e-7b36-49a9-a21c-173423c78173"
      },
      "execution_count": null,
      "outputs": [
        {
          "output_type": "execute_result",
          "data": {
            "text/plain": [
              "array([1, 3, 5])"
            ]
          },
          "metadata": {},
          "execution_count": 108
        }
      ]
    },
    {
      "cell_type": "code",
      "source": [
        "arr = np.array(['5','7','19','1','22','99','4'])\n",
        "arr = arr.astype('int')\n",
        "arr.dtype"
      ],
      "metadata": {
        "colab": {
          "base_uri": "https://localhost:8080/"
        },
        "id": "XJEYoZkT8PbT",
        "outputId": "c660d00f-6011-414a-c5c8-0b212768ea24"
      },
      "execution_count": null,
      "outputs": [
        {
          "output_type": "execute_result",
          "data": {
            "text/plain": [
              "dtype('int64')"
            ]
          },
          "metadata": {},
          "execution_count": 115
        }
      ]
    },
    {
      "cell_type": "code",
      "source": [
        "# 1.ders sonu"
      ],
      "metadata": {
        "id": "IWzPDW2i8i2_"
      },
      "execution_count": null,
      "outputs": []
    }
  ]
}